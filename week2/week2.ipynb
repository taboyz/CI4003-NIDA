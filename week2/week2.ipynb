{
 "cells": [
  {
   "cell_type": "markdown",
   "metadata": {},
   "source": [
    "#  Exercise2   # \n",
    "2018/01/17\n"
   ]
  },
  {
   "attachments": {},
   "cell_type": "markdown",
   "metadata": {},
   "source": [
    "## 1.Odd or Even Numbers!  \n",
    "** Write a program to determine if an input number is odd or even **\n"
   ]
  },
  {
   "cell_type": "code",
   "execution_count": 10,
   "metadata": {},
   "outputs": [
    {
     "name": "stdout",
     "output_type": "stream",
     "text": [
      "Enter a Number:-2.2\n",
      "odd\n"
     ]
    }
   ],
   "source": [
    "number_input = input(\"Enter a Number:\")\n",
    "try:\n",
    "    number = float(number_input)\n",
    "    \n",
    "except:\n",
    "    number = 0\n",
    "    print (\"Error input type\")\n",
    "    \n",
    "if (number % 2) == 0:\n",
    "    print (\"even\")\n",
    "    \n",
    "else:\n",
    "    print (\"odd\")\n",
    "\n"
   ]
  },
  {
   "attachments": {},
   "cell_type": "markdown",
   "metadata": {},
   "source": [
    "## 2.Tip Calculator!\n",
    "**Write a tip calculator function which accepts amount of the bill and percentage to tip **\n",
    "\n",
    "Make sure you handle input errors \n",
    "\n"
   ]
  },
  {
   "cell_type": "code",
   "execution_count": 12,
   "metadata": {},
   "outputs": [
    {
     "name": "stdout",
     "output_type": "stream",
     "text": [
      "Enter Amount:1000\n",
      "Enter Tip in % :8\n",
      " TIP = 80.0\n"
     ]
    }
   ],
   "source": [
    "amount_input = input(\"Enter Amount:\")\n",
    "tip_percentage = input(\"Enter Tip in % :\")\n",
    "\n",
    "try:\n",
    "    amount = float(amount_input)\n",
    "    tip = float(tip_percentage)\n",
    "    \n",
    "except:\n",
    "    amount = 1\n",
    "    tip = 1\n",
    "\n",
    "tip_amount = amount * tip / 100    \n",
    "print (\" TIP =\", tip_amount)\n"
   ]
  },
  {
   "attachments": {},
   "cell_type": "markdown",
   "metadata": {},
   "source": [
    "# 3. Wages!\n",
    "Many companies pay time-and-a-half for any hours worked above 40 in a given week\n",
    "\n",
    "Write a program to input the number of hours and the hourly rate and calculate the total wages for the week\n"
   ]
  },
  {
   "cell_type": "code",
   "execution_count": 26,
   "metadata": {},
   "outputs": [
    {
     "name": "stdout",
     "output_type": "stream",
     "text": [
      "Enter hours:41\n",
      "Enter hourly rate10\n",
      "Normal: 400.0   OT: 15.0   Total: 415.0\n"
     ]
    }
   ],
   "source": [
    "hour_input = input(\"Enter hours:\")\n",
    "hourly_rate = input (\"Enter hourly rate\")\n",
    "\n",
    "try:\n",
    "    h = float(hour_input)\n",
    "    r = float(hourly_rate)\n",
    "except:\n",
    "    h = 1\n",
    "    r = 1\n",
    "\n",
    "\n",
    "ot = 0\n",
    "\n",
    "if h > 40:\n",
    "    normal = 40 * r\n",
    "    ot = (h-40)* (r*1.5)\n",
    "else:\n",
    "    normal = h * r\n",
    "    \n",
    "\n",
    "print(\"Normal:\",normal, \"  OT:\",ot, \"  Total:\",normal+ot)\n",
    "    "
   ]
  },
  {
   "attachments": {},
   "cell_type": "markdown",
   "metadata": {},
   "source": [
    "# 4. Leap Year!\n",
    "\n",
    "A year is a leap year if it is divisible by 4, unless it is a century yaer that is not divisible by 400. (1800 and 1900 are not leap years while 1600 and 2000 are.)\n",
    "\n",
    "Write a program that determines whether a year is a leap year\n",
    "\n"
   ]
  },
  {
   "cell_type": "code",
   "execution_count": 35,
   "metadata": {},
   "outputs": [
    {
     "name": "stdout",
     "output_type": "stream",
     "text": [
      "Enter AD year:400\n",
      "leap year\n"
     ]
    }
   ],
   "source": [
    "input_year = input(\"Enter AD year:\")\n",
    "try:\n",
    "    cal_year = int(input_year)\n",
    "except:\n",
    "    cal_year = 0\n",
    "\n",
    "if (cal_year % 100) == 0:\n",
    "    if cal_year % 400 == 0:\n",
    "        print (\"leap year\")\n",
    "    else :\n",
    "        print(\"NOT leap year\")\n",
    "elif cal_year % 4 == 0:\n",
    "    print  (\"leap year\")\n",
    "    \n",
    "else:\n",
    "    print (\"NOT Leap year\")\n"
   ]
  },
  {
   "attachments": {
    "image.png": {
     "image/png": "[encoded data removed]"
    }
   },
   "cell_type": "markdown",
   "metadata": {},
   "source": [
    "# 5.BMI Calculator\n",
    "\n",
    "Write a program which calculates body mass index\n",
    "Formula: weight (kg) / [height (m)]2\n",
    "\n",
    "![image.png](attachment:image.png)"
   ]
  },
  {
   "cell_type": "code",
   "execution_count": 36,
   "metadata": {},
   "outputs": [
    {
     "name": "stdout",
     "output_type": "stream",
     "text": [
      "Enter weight in KG:60\n",
      "Enter height in m:1.65\n",
      "Normal or Healthy Weight\n"
     ]
    }
   ],
   "source": [
    "weight_input = input(\"Enter weight in KG:\")\n",
    "height_input = input(\"Enter height in m:\")\n",
    "\n",
    "try:\n",
    "    weight = float(weight_input)\n",
    "    height = float(height_input)\n",
    "\n",
    "except:\n",
    "    weight = 1\n",
    "    height = 1\n",
    "    \n",
    "bmi = weight / (height ** 2)\n",
    "\n",
    "if bmi < 18.5:\n",
    "    print (\" Underweight\")\n",
    "elif bmi >= 18.5 and bmi < 25:\n",
    "    print(\"Normal or Healthy Weight\")\n",
    "elif bmi >= 25 and bim < 30:\n",
    "    print(\"Overweight\")\n",
    "elif bmi >= 30:\n",
    "    print (\"Obese\")"
   ]
  }
 ],
 "metadata": {
  "kernelspec": {
   "display_name": "Python 3",
   "language": "python",
   "name": "python3"
  },
  "language_info": {
   "codemirror_mode": {
    "name": "ipython",
    "version": 3
   },
   "file_extension": ".py",
   "mimetype": "text/x-python",
   "name": "python",
   "nbconvert_exporter": "python",
   "pygments_lexer": "ipython3",
   "version": "3.6.3"
  }
 },
 "nbformat": 4,
 "nbformat_minor": 2
}
