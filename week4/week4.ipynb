{
 "cells": [
  {
   "cell_type": "markdown",
   "metadata": {},
   "source": [
    "# 1 Counting Vowels!\n",
    "\n",
    "Write a short Python function that counts the number of vowels in a given character string.\n"
   ]
  },
  {
   "cell_type": "code",
   "execution_count": null,
   "metadata": {
    "collapsed": true
   },
   "outputs": [],
   "source": [
    "input_txt =  input(\"Enter a String:\")\n",
    "\n",
    "def check_vowels(bstring):\n",
    "    vcounter = 0\n",
    "    vowels_list = [\"a\",\"e\",\"i\",\"o\",\"u\"]\n",
    "    for i in bstring:\n",
    "        \n",
    "        if i.lower() in vowels_list :\n",
    "            vcounter += 1\n",
    "            print (i,\" is vowles\", \" counter =\",vcounter) \n",
    "            \n",
    "        else :\n",
    "             print (i,\" NO \")\n",
    "    return vcounter\n",
    "\n",
    "\n",
    "print (\"tolal vowels:\",check_vowels(input_txt))\n"
   ]
  },
  {
   "cell_type": "markdown",
   "metadata": {},
   "source": [
    "# 2 Sum of Squares of Odd Positive Integer\n",
    "\n",
    "Write a short Python function that takes a positive integer n and returns the sum of the squares of all the odd positive integers smaller than n!"
   ]
  },
  {
   "cell_type": "code",
   "execution_count": null,
   "metadata": {
    "collapsed": true
   },
   "outputs": [],
   "source": [
    "input_int = int(input('Enter a positive integer'))\n",
    "\n",
    "def SumofAllOddSquares(a_int):\n",
    "    \n",
    "    SumOfSquares = 0\n",
    "    for i in range (1,a_int,2) :\n",
    "        SumOfSquares += i ** 2\n",
    "    return SumOfSquares\n",
    "\n",
    "print (SumofAllOddSquares(input_int))\n",
    "\n",
    "\n"
   ]
  },
  {
   "cell_type": "code",
   "execution_count": null,
   "metadata": {
    "collapsed": true
   },
   "outputs": [],
   "source": [
    "input_int = int(input('Enter a positive integer:'))\n",
    "\n",
    "def SumofAllOddSquares(a_int):\n",
    "    \n",
    "    SumOfSquares = 0\n",
    "    for i in range (1,a_int,2) :\n",
    "        print (i , \"Squares =>\" ,i**2)\n",
    "        SumOfSquares += i ** 2\n",
    "    return SumOfSquares\n",
    "\n",
    "print (\" SumofAllOddSquares :\",SumofAllOddSquares(input_int))"
   ]
  },
  {
   "cell_type": "code",
   "execution_count": null,
   "metadata": {
    "collapsed": true
   },
   "outputs": [],
   "source": [
    "input_int = int(input('Enter a positive integer:'))\n",
    "\n",
    "def SumofAllOddSquares(a_int):\n",
    "    \n",
    "    odd_list_sqruares = []\n",
    "\n",
    "    for i in range (1,a_int,2) :\n",
    "        odd_list_sqruares.append(i**2)\n",
    "    return  sum(odd_list_sqruares)\n",
    "\n",
    "print (\" SumofAllOddSquares :\",SumofAllOddSquares(input_int))"
   ]
  },
  {
   "cell_type": "code",
   "execution_count": null,
   "metadata": {
    "collapsed": true
   },
   "outputs": [],
   "source": [
    "input_int = int(input('Enter a positive integer:'))\n",
    "\n",
    "def SumofAllOddSquares(a_int):  \n",
    "    odd_list_sqruares = [ i ** 2 for i in range (1,a_int,2)]\n",
    "    return  sum(odd_list_sqruares)\n",
    "\n",
    "print (\" SumofAllOddSquares :\",SumofAllOddSquares(input_int))"
   ]
  },
  {
   "cell_type": "markdown",
   "metadata": {},
   "source": [
    "## 3 Distinct Numbers in Sequence!\n",
    "Write a Python function that takes a sequence of numbers and determines if all the numbers are different from each other (that is, they are distinct).\n"
   ]
  },
  {
   "cell_type": "code",
   "execution_count": 1,
   "metadata": {},
   "outputs": [
    {
     "name": "stdout",
     "output_type": "stream",
     "text": [
      "Enter a sequence of numbers separated by comma (,):1,4,5,4\n",
      "1 count 1\n",
      "4 count 2\n",
      "5 count 1\n",
      "4 count 2\n",
      "Duplicate Found\n"
     ]
    }
   ],
   "source": [
    "input_int = input('Enter a sequence of numbers separated by comma (,):')\n",
    "\n",
    "def CheckDistinctNumber(a_seq):  \n",
    "    seq_list = a_seq.split(\",\")\n",
    "\n",
    "    for i in seq_list:\n",
    "        print (i , \"count\",seq_list.count(i))\n",
    "        if seq_list.count(i) > 1 :\n",
    "            return_result = \"Duplicate Found\"\n",
    "        else:\n",
    "            return_result = \"Not Duplicate\"\n",
    "            \n",
    "    return  return_result\n",
    "\n",
    "print (CheckDistinctNumber(input_int))"
   ]
  },
  {
   "cell_type": "markdown",
   "metadata": {},
   "source": [
    "## 4 Dow Jones Stock Information\n",
    "* Write a program that displays information about a DOW stock\n",
    "* The file format is Company, Symbol, Exchange, Industry, Price at the beginning of the year, Price at the end of the year, Earnings, Dividend\n",
    "\n",
    "* The program  Displays all symbols Prompts the user for a symbol\n",
    " \n",
    "  Display Company, Industry, Exchange, Growth, Price/Earnings ratio\n"
   ]
  },
  {
   "cell_type": "code",
   "execution_count": null,
   "metadata": {
    "collapsed": true
   },
   "outputs": [],
   "source": [
    "def DisplayStock(stock_symbol):\n",
    "    a = [item for item in dow_list if stock_symbol in item[:][1]]\n",
    "    #print (a)\n",
    "    print (\"Company:\", a[0][0])\n",
    "    print (\"Industry:\",a[0][3])\n",
    "    print (\"Enchange:\",a[0][2])\n",
    "    print ('Growth in 2013:{:5.2f}%'.format((float(a[0][5]) - float(a[0][4]))/float(a[0][4])*100))\n",
    "    print (\"Price/Earnings ratio in 2013:  {:5.2f}\".format(float(a[0][5])/float(a[0][6])))\n",
    "    \n",
    "infile = open(\"DOW.TXT\",'r')\n",
    "#dow_list = [(line.rstrip()) for line in  infile]\n",
    "dow_list = [tuple(line.rstrip().split(\",\")) for line in  infile]\n",
    "infile.close()\n",
    "\n",
    "#print (dow_list)\n",
    "i = 0\n",
    "while  i < len(dow_list) :\n",
    "    print (dow_list[i][1],end=\" \")\n",
    "    i += 1\n",
    "    \n",
    "input_stock = input(\"\\nEnter Stock Symbol:\")\n",
    "DisplayStock(input_stock)"
   ]
  },
  {
   "cell_type": "markdown",
   "metadata": {},
   "source": [
    "TEST\n"
   ]
  },
  {
   "cell_type": "code",
   "execution_count": null,
   "metadata": {
    "collapsed": true
   },
   "outputs": [],
   "source": [
    "def DisplayStock(stock_symbol):\n",
    "    a = [item for item in dow_list if stock_symbol in item[:][1]]\n",
    "    print (a)\n",
    "   \n",
    "infile = open(\"DOW.TXT\",'r')\n",
    "#dow_list = [(line.rstrip()) for line in  infile]\n",
    "dow_list = [tuple(line.rstrip().split(\",\")) for line in  infile]\n",
    "infile.close()\n",
    "\n",
    "print (dow_list)\n",
    "i = 0\n",
    "while  i < len(dow_list) :\n",
    "    print (dow_list[i][1],end=\" \")\n",
    "    i += 1\n",
    "    \n",
    "input_stock = input(\"\\nEnter Stock Symbol:\")\n",
    "DisplayStock(input_stock)\n"
   ]
  },
  {
   "cell_type": "code",
   "execution_count": null,
   "metadata": {
    "collapsed": true
   },
   "outputs": [],
   "source": []
  },
  {
   "cell_type": "code",
   "execution_count": 14,
   "metadata": {},
   "outputs": [
    {
     "name": "stdout",
     "output_type": "stream",
     "text": [
      "AXP BA CAT CSCO CVX DD DIS GE GS HD IBM INTC JNJ JPM KO MCD MMM MRK MSFT NKE PFE PG T TRV UNH UTX VZ V WMT XOM "
     ]
    }
   ],
   "source": [
    "\n",
    "##  Open File \n",
    "\n",
    "infile = open(\"DOW.TXT\",'r')\n",
    "## read line to list\n",
    "dow_list = [(line.rstrip().split(\",\")) for line in  infile]\n",
    "\n",
    "infile.close()\n",
    "\n",
    "#print (dow_list)\n",
    "\n",
    "i = 0 \n",
    "\n",
    "while i < len(dow_list) :\n",
    "    print(dow_list[i][1],end=\" \")\n",
    "    i += 1\n",
    "\n"
   ]
  },
  {
   "cell_type": "code",
   "execution_count": null,
   "metadata": {
    "collapsed": true
   },
   "outputs": [],
   "source": [
    "##dow_list = [(line.rstrip().split(\",\")) for line in  infile]"
   ]
  },
  {
   "attachments": {},
   "cell_type": "markdown",
   "metadata": {},
   "source": [
    "# 5 Best and Worst Performing Stocks!\n",
    "* Write a program that displays the best and the worst performing stocks\n",
    "* Percentage change = (Price at the end – Price at the beginning)/ Price at the beginning * 100\n"
   ]
  },
  {
   "cell_type": "code",
   "execution_count": 125,
   "metadata": {},
   "outputs": [
    {
     "name": "stdout",
     "output_type": "stream",
     "text": [
      "The Best performing Stock: Boeing   81.12 %\n",
      "The Worst performing Stock: International Business Machines   -2.08 %\n"
     ]
    }
   ],
   "source": [
    "##  Open File \n",
    "infile = open(\"DOW.TXT\",'r')\n",
    "## read line to list\n",
    "dow_list = [(line.rstrip().split(\",\")) for line in  infile]\n",
    "infile.close()\n",
    "#print (dow_list)\n",
    "percentage_change_list = [[dow_list[index][0],round(((float(dow_list[index][5])-float(dow_list[index][4])))/\n",
    "                            float(dow_list[index][4])*100, 2)] for index,item  in enumerate(dow_list)]\n",
    "#print (percentage_change_list)\n",
    "\n",
    "print (\"The Best performing Stock:\",str(max(percentage_change_list, key = lambda x: x[1])[0]),\" \",str(max(percentage_change_list, key = lambda x: x[1])[1]),\"%\")\n",
    "\n",
    "print (\"The Worst performing Stock:\",str(min(percentage_change_list,key = lambda x: x[1])[0]),\" \",str(min(percentage_change_list, key = lambda x: x[1])[1]),\"%\")\n",
    "  \n",
    "    \n"
   ]
  },
  {
   "attachments": {},
   "cell_type": "markdown",
   "metadata": {},
   "source": [
    "# 6. The Dogs of the Dow!\n",
    "* Write a program that displays the dogs which have high yields\n",
    "* Yield = Dividend to Price ratio\n"
   ]
  },
  {
   "cell_type": "code",
   "execution_count": 191,
   "metadata": {},
   "outputs": [
    {
     "name": "stdout",
     "output_type": "stream",
     "text": [
      "Company                             Symbol               Yield \n",
      "AT&T                                T                    5.15% \n",
      "Verizon                             VZ                   4.19% \n",
      "Intel                               INTC                 3.47% \n",
      "Merck                               MRK                  3.46% \n",
      "McDonald's                          MCD                  3.22% \n",
      "Cisco Systems                       CSCO                 3.21% \n",
      "Chevron Corporation                 CVX                  3.2% \n",
      "Pfizer                              PFE                  3.2% \n",
      "Procter & Gamble                    PG                   3.06% \n",
      "Microsoft                           MSFT                 2.86% \n"
     ]
    }
   ],
   "source": [
    "# take second element for sort\n",
    "def takeThird(elem):\n",
    "    return elem[2]\n",
    "\n",
    "##  Open File \n",
    "infile = open(\"DOW.TXT\",'r')\n",
    "## read line to list\n",
    "dow_list = [(line.rstrip().split(\",\")) for line in  infile]\n",
    "infile.close()\n",
    "#print (dow_list)\n",
    "\n",
    "yield_list = [[dow_list[index][0],dow_list[index][1],round(float(dow_list[index][7])\n",
    "            /float(dow_list[index][5])*100,2)] for index,item  in enumerate(dow_list)]  \n",
    "#print (yield_list)\n",
    "\n",
    "\n",
    "# sort list with Third key and reverse MAX\n",
    "yield_list.sort(key=takeThird,reverse=True)\n",
    "\n",
    "\n",
    "print (\"{:35} {:20} {:1} \".format(\"Company\",\"Symbol\",\"Yield\"))\n",
    "for i in range(10):\n",
    "    #print (yield_list[i][0],\"\\t\\t\",yield_list[i][1],\"\\t\",yield_list[i][2])\n",
    "    print (\"{:35} {:20} {:1}% \".format(yield_list[i][0],yield_list[i][1],yield_list[i][2]))"
   ]
  },
  {
   "attachments": {},
   "cell_type": "markdown",
   "metadata": {},
   "source": [
    "# 7. Small Dogs of the Dow!\n",
    "* Small dogs are determined by the price at the end of year.\n"
   ]
  },
  {
   "cell_type": "code",
   "execution_count": 212,
   "metadata": {},
   "outputs": [
    {
     "name": "stdout",
     "output_type": "stream",
     "text": [
      "Company                        Symbol               Price on 12/31/2013 \n",
      "Cisco Systems                 CSCO                $22.43               \n",
      "Intel                         INTC                $25.95               \n",
      "General Electric              GE                  $28.03               \n",
      "Pfizer                        PFE                 $30.63               \n",
      "AT&T                          T                   $35.16               \n"
     ]
    }
   ],
   "source": [
    "# take second element for sort\n",
    "def takeThird(elem):\n",
    "    return elem[2]\n",
    "\n",
    "infile = open('DOW.txt','r')\n",
    "dow_list = [  line.rstrip().split(\",\")   for line in infile]\n",
    "infile.close()\n",
    "price_end_list = [[dow_list[index][0],dow_list[index][1],float(dow_list[index][5])]for index,item in enumerate(dow_list)]\n",
    "price_end_list.sort(key=takeThird)\n",
    "print (\"{:30} {:<20} {:<20}\".format(\"Company\",\"Symbol\",\"Price on 12/31/2013\"))\n",
    "for i in range (5):\n",
    "    print (\"{:30}{:<20}${:<20}\".format(price_end_list[i][0],price_end_list[i][1],price_end_list[i][2]))"
   ]
  },
  {
   "cell_type": "code",
   "execution_count": null,
   "metadata": {
    "collapsed": true
   },
   "outputs": [],
   "source": []
  }
 ],
 "metadata": {
  "kernelspec": {
   "display_name": "Python 3",
   "language": "python",
   "name": "python3"
  },
  "language_info": {
   "codemirror_mode": {
    "name": "ipython",
    "version": 3
   },
   "file_extension": ".py",
   "mimetype": "text/x-python",
   "name": "python",
   "nbconvert_exporter": "python",
   "pygments_lexer": "ipython3",
   "version": "3.6.3"
  }
 },
 "nbformat": 4,
 "nbformat_minor": 2
}
