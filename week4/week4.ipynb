{
 "cells": [
  {
   "attachments": {},
   "cell_type": "markdown",
   "metadata": {},
   "source": [
    "# 1 Counting Vowels!\n",
    "\n",
    "Write a short Python function that counts the number of vowels in a given character string.\n"
   ]
  },
  {
   "cell_type": "code",
   "execution_count": 11,
   "metadata": {},
   "outputs": [
    {
     "name": "stdout",
     "output_type": "stream",
     "text": [
      "Enter a String:THIS is a BOok\n",
      "T  NO \n",
      "H  NO \n",
      "I  is vowles  counter = 1\n",
      "S  NO \n",
      "   NO \n",
      "i  is vowles  counter = 2\n",
      "s  NO \n",
      "   NO \n",
      "a  is vowles  counter = 3\n",
      "   NO \n",
      "B  NO \n",
      "O  is vowles  counter = 4\n",
      "o  is vowles  counter = 5\n",
      "k  NO \n",
      "tolal vowels: 5\n"
     ]
    }
   ],
   "source": [
    "input_txt =  input(\"Enter a String:\")\n",
    "\n",
    "def check_vowels(bstring):\n",
    "    vcounter = 0\n",
    "    vowels_list = [\"a\",\"e\",\"i\",\"o\",\"u\"]\n",
    "    for i in bstring:\n",
    "        \n",
    "        if i.lower() in vowels_list :\n",
    "            vcounter += 1\n",
    "            print (i,\" is vowles\", \" counter =\",vcounter) \n",
    "            \n",
    "        else :\n",
    "             print (i,\" NO \")\n",
    "    return vcounter\n",
    "\n",
    "\n",
    "print (\"tolal vowels:\",check_vowels(input_txt))\n"
   ]
  },
  {
   "attachments": {},
   "cell_type": "markdown",
   "metadata": {},
   "source": [
    "# 2 Sum of Squares of Odd Positive Integer\n",
    "\n",
    "Write a short Python function that takes a positive integer n and returns the sum of the squares of all the odd positive integers smaller than n!"
   ]
  },
  {
   "cell_type": "code",
   "execution_count": null,
   "metadata": {
    "collapsed": true
   },
   "outputs": [],
   "source": []
  }
 ],
 "metadata": {
  "kernelspec": {
   "display_name": "Python 3",
   "language": "python",
   "name": "python3"
  },
  "language_info": {
   "codemirror_mode": {
    "name": "ipython",
    "version": 3
   },
   "file_extension": ".py",
   "mimetype": "text/x-python",
   "name": "python",
   "nbconvert_exporter": "python",
   "pygments_lexer": "ipython3",
   "version": "3.6.1"
  }
 },
 "nbformat": 4,
 "nbformat_minor": 2
}
