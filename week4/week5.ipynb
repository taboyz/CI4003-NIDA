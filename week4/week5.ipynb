{
 "cells": [
  {
   "cell_type": "markdown",
   "metadata": {},
   "source": [
    "# Week5\n",
    "David i. schneider\n",
    "\n",
    "Object-Oriented Programming\n",
    "\n",
    "Property\n",
    "Behavior\n",
    "\n",
    "\n",
    "\n",
    "as a \n",
    "is a\n",
    "\n",
    "\n",
    "class class_name:\n",
    "\n",
    "\n",
    "\n",
    "init\n",
    "str\n",
    "getter\n",
    "setter"
   ]
  },
  {
   "cell_type": "markdown",
   "metadata": {},
   "source": [
    "# 1 Currency Exchange: Part 1\n",
    "\n",
    "* Write a program that Reads a name of the country \n",
    "\n",
    "* Displays the name of currency and the exchange rate for requested country​\n",
    "\n",
    "* File: Exchrate.txt\n",
    "\n",
    "* File format: name of the country, name of currency, exchange rate/USD$"
   ]
  },
  {
   "cell_type": "code",
   "execution_count": null,
   "metadata": {},
   "outputs": [],
   "source": [
    "infile = open(\"Exchrate.txt\",\"r\")\n",
    "exchange_list = [ line.rstrip().split(\",\") for line in infile]\n",
    "infile.close()\n",
    "print (exchange_list)"
   ]
  },
  {
   "cell_type": "markdown",
   "metadata": {},
   "source": [
    "# 4 point\n",
    "\n",
    "Class Point​\n",
    "\n",
    "Instant variables: _x, _y​\n",
    "\n",
    "Getters and setters​\n",
    "\n",
    "Method __str__​\n",
    "\n",
    "Method distance_from_origi"
   ]
  },
  {
   "cell_type": "code",
   "execution_count": 20,
   "metadata": {},
   "outputs": [
    {
     "name": "stdout",
     "output_type": "stream",
     "text": [
      "enter x:4\n",
      "enter y:3\n",
      "Distance from x - y:  5.0\n"
     ]
    }
   ],
   "source": [
    "import math\n",
    "class point:\n",
    "    def __init__(self, x, y):\n",
    "        self._x = x\n",
    "        self._y = y\n",
    "        \n",
    "    def get_x(self):\n",
    "        return self._x\n",
    "    \n",
    "    def get_y(self):\n",
    "        return self._y\n",
    "        \n",
    "    def set_x(self, x):\n",
    "        self._x = x\n",
    "        \n",
    "    def set_y(self, y):\n",
    "        self._y = y\n",
    "    \n",
    "    def distance_from_origi(self):\n",
    "      #  return  float(math.sqrt(self_x**2))\n",
    "        return  math.sqrt(self._x**2 + self._y**2)\n",
    "    \n",
    "    def __str__(self):\n",
    "        return (\"This is point \")\n",
    "    \n",
    "\n",
    "x = float(input(\"enter x:\"))\n",
    "y = float(input(\"enter y:\"))\n",
    "\n",
    "dis = point(0,0)\n",
    "dis.set_x(x)\n",
    "dis.set_y(y)\n",
    "\n",
    "\n",
    "#print (dis.get_x())\n",
    "#print (dis.get_y())\n",
    "print (\"Distance from x - y:{:5.3}\".format(dis.distance_from_origi()))"
   ]
  },
  {
   "cell_type": "code",
   "execution_count": 3,
   "metadata": {},
   "outputs": [
    {
     "name": "stdout",
     "output_type": "stream",
     "text": [
      "2.23606797749979\n"
     ]
    }
   ],
   "source": []
  },
  {
   "cell_type": "markdown",
   "metadata": {},
   "source": [
    "# 5 Stock\n",
    "\n",
    "Class Stock​\n",
    "\n",
    "name, symbol, previous_price, current_price​\n",
    "\n",
    "Getters and setters​\n",
    "\n",
    "Method get_change_percent returns a string of percentage change"
   ]
  },
  {
   "cell_type": "code",
   "execution_count": 36,
   "metadata": {},
   "outputs": [
    {
     "name": "stdout",
     "output_type": "stream",
     "text": [
      "fs\n",
      "0.3333333333333333\n",
      "<class 'str'>\n"
     ]
    }
   ],
   "source": [
    "class Stock:\n",
    "    def __init__(self, name, symbol, previous_price,current_price):\n",
    "        self._name = name\n",
    "        self._symbol = symbol\n",
    "        self._previous_price = previous_price\n",
    "        self._current_price = current_price\n",
    "        \n",
    "    def get_name(self):\n",
    "        return self._name\n",
    "    \n",
    "    def get_symbol(self):\n",
    "        return self._symbol\n",
    "    \n",
    "    def set_stock(self, name, symbol, previous_price,current_price):\n",
    "        self._name = name\n",
    "        self._symbol = symbol\n",
    "        self._previous_price = previous_price\n",
    "        self._current_price = current_price\n",
    "        \n",
    "    def get_change_percent(self):\n",
    "        change = (self._current_price - self._previous_price)  / self._previous_price\n",
    "        return str(change)\n",
    "    \n",
    "stock1 =   Stock('fs','ee',3,4)\n",
    "print (stock1.get_name())\n",
    "print (stock1.get_change_percent())\n",
    "print (type(stock1.get_change_percent()))"
   ]
  },
  {
   "cell_type": "code",
   "execution_count": null,
   "metadata": {
    "collapsed": true
   },
   "outputs": [],
   "source": [
    "_sym"
   ]
  }
 ],
 "metadata": {
  "kernelspec": {
   "display_name": "Python 3",
   "language": "python",
   "name": "python3"
  },
  "language_info": {
   "codemirror_mode": {
    "name": "ipython",
    "version": 3
   },
   "file_extension": ".py",
   "mimetype": "text/x-python",
   "name": "python",
   "nbconvert_exporter": "python",
   "pygments_lexer": "ipython3",
   "version": "3.6.1"
  }
 },
 "nbformat": 4,
 "nbformat_minor": 2
}
