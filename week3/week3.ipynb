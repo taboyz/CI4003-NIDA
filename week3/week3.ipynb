{
 "cells": [
  {
   "cell_type": "markdown",
   "metadata": {},
   "source": [
    "# Week 3 \n",
    "24/01/2018"
   ]
  },
  {
   "cell_type": "markdown",
   "metadata": {},
   "source": [
    "#  #1 Tip Calculator!\n",
    "Write a tip calculator function which accepts amount of the bill and percentage to tip.\n",
    "\n",
    "The function returns tip amount\n"
   ]
  },
  {
   "cell_type": "code",
   "execution_count": 1,
   "metadata": {},
   "outputs": [
    {
     "name": "stdout",
     "output_type": "stream",
     "text": [
      "amount:1000\n",
      "Percent:7\n",
      "tip:> 7.0 %   = 70.0\n",
      "Total paid: 1070.0\n"
     ]
    }
   ],
   "source": [
    "def tip(amount,percent):\n",
    "     return (amount * percent) / 100\n",
    "\n",
    "    \n",
    "amountin = input(\"amount:\")\n",
    "percentin = input(\"Percent:\")\n",
    "amount_1 = float(amountin)\n",
    "percent_1 = float(percentin)\n",
    "              \n",
    "tip_amount = tip(amount_1,percent_1)\n",
    "print (\"tip:>\",percent_1,\"%   =\",tip_amount)\n",
    "print ( \"Total paid:\",tip_amount + amount_1)\n",
    "\n"
   ]
  },
  {
   "cell_type": "markdown",
   "metadata": {},
   "source": [
    "# #2   Is Multiple\n",
    "Write a short Python function, is_multiple(n, m), that takes two integer values and returns True if n is a multiple of m, that is, n = mi for some integer i, and False otherwise.\n"
   ]
  },
  {
   "cell_type": "code",
   "execution_count": 2,
   "metadata": {},
   "outputs": [
    {
     "name": "stdout",
     "output_type": "stream",
     "text": [
      " n:100\n",
      " m:5\n",
      "true\n"
     ]
    }
   ],
   "source": [
    "def is_multiple(n,m):\n",
    "    if n % m == 0:\n",
    "        return \"true\"\n",
    "    else:\n",
    "        return \"false\"\n",
    "    \n",
    "n = int(input(\" n:\"))    \n",
    "m = int(input(\" m:\"))\n",
    "\n",
    "\n",
    "result = is_multiple(n,m)\n",
    "print (result)"
   ]
  },
  {
   "cell_type": "markdown",
   "metadata": {},
   "source": [
    "# 3 Rectangle Area Calculator!\n",
    "\n",
    "Write a short Python function which computes the area of a rectangle\n",
    "\n",
    "The function takes the width and height\n",
    "\n",
    "The function returns the area\n"
   ]
  },
  {
   "cell_type": "code",
   "execution_count": 3,
   "metadata": {},
   "outputs": [
    {
     "name": "stdout",
     "output_type": "stream",
     "text": [
      "w:50\n",
      "h:50\n",
      "2500.0\n"
     ]
    }
   ],
   "source": [
    "def findarea(w,h):\n",
    "    return w * h\n",
    "\n",
    "w = float(input(\"w:\"))\n",
    "h = float(input(\"h:\"))\n",
    "\n",
    "print (findarea(w,h))"
   ]
  },
  {
   "cell_type": "markdown",
   "metadata": {},
   "source": [
    "# #4 IS Triangle\n",
    "\n",
    "* Read three sides\n",
    "* Function is_triangle(a, b, c) determines if it is a triangle\n",
    "* For a triangle, the lengths of two sides must be longer that the third side"
   ]
  },
  {
   "cell_type": "code",
   "execution_count": 4,
   "metadata": {},
   "outputs": [
    {
     "name": "stdout",
     "output_type": "stream",
     "text": [
      "a:3\n",
      "b:4\n",
      "c:5\n",
      "Max Value is : 5.0\n",
      "Is Triangle\n"
     ]
    }
   ],
   "source": [
    "def is_triangle(a, b, c):\n",
    "    max_t =max(a,b,c)\n",
    "    print (\"Max Value is :\",max_t)\n",
    "    if max_t < ((a+b+c)-max_t) :\n",
    "        return \"Is Triangle\"\n",
    "    else:\n",
    "        return \"Not Triangle\"\n",
    "    \n",
    "    \n",
    "\n",
    "a = float(input(\"a:\"))\n",
    "b = float(input(\"b:\"))\n",
    "c = float(input(\"c:\"))\n",
    "\n",
    "print (is_triangle(a,b,c))\n",
    "\n",
    "\n"
   ]
  },
  {
   "cell_type": "code",
   "execution_count": 5,
   "metadata": {},
   "outputs": [
    {
     "name": "stdout",
     "output_type": "stream",
     "text": [
      "a:3\n",
      "b:4\n",
      "c:5\n",
      "Max Value is : 5.0\n",
      "Is Triangle\n"
     ]
    }
   ],
   "source": [
    "# Code from XXXXX\n",
    "from tkinter import *\n",
    "\n",
    "def draw(a, b, c):\n",
    "    # determine corner points of triangle with sides a, b, c\n",
    "    A = (0, 0)\n",
    "    B = (c, 0)\n",
    "    hc = (2 * (a**2*b**2 + b**2*c**2 + c**2*a**2) - (a**4 + b**4 + c**4))**0.5 / (2.*c)\n",
    "    dx = (b**2 - hc**2)**0.5\n",
    "    if abs((c - dx)**2 + hc**2 - a**2) > 0.01: dx = -dx # dx has two solutions\n",
    "    C = (dx, hc)\n",
    "\n",
    "    # move away from topleft, scale up a bit, convert to int\n",
    "    coords = [int((x + 1) * 75) for x in A+B+C]\n",
    "\n",
    "    # draw using Tkinter\n",
    "    root = Tk()\n",
    "    canvas = Canvas(root, width=1000, height=1000)\n",
    "    canvas.create_polygon(*coords)\n",
    "    canvas.pack()\n",
    "    root.mainloop()\n",
    "\n",
    "    \n",
    "def is_triangle(a, b, c):\n",
    "    max_t =max(a,b,c)\n",
    "    print (\"Max Value is :\",max_t)\n",
    "    if max_t < ((a+b+c)-max_t) :\n",
    "        return \"Is Triangle\"\n",
    "    else:\n",
    "        return \"Not Triangle\"\n",
    "    \n",
    "    \n",
    "\n",
    "a = float(input(\"a:\"))\n",
    "b = float(input(\"b:\"))\n",
    "c = float(input(\"c:\"))\n",
    "\n",
    "print (is_triangle(a,b,c))\n",
    "    \n",
    "draw(a, b, c)"
   ]
  },
  {
   "cell_type": "markdown",
   "metadata": {},
   "source": [
    "# #5  Right Triangle\n",
    "\n",
    "* A right triangle is a triangle with a right angle\n",
    "* 𝑐^2=𝑎^2+𝑏^2\n",
    "* Read three sides\n",
    " Determine if it is a right triangle\n",
    "\n"
   ]
  },
  {
   "cell_type": "code",
   "execution_count": 6,
   "metadata": {},
   "outputs": [
    {
     "name": "stdout",
     "output_type": "stream",
     "text": [
      "a:4\n",
      "b:5\n",
      "c opposite side:6\n",
      "NOT Right triangle\n"
     ]
    }
   ],
   "source": [
    "def  is_right_triangle(a,b,c):\n",
    "    \n",
    "    if (c ** 2) == (a**2) + (b**2):\n",
    "        return \"is right triangle\"\n",
    "    else:\n",
    "        return \"NOT Right triangle\"\n",
    "    \n",
    "    \n",
    "a = float(input(\"a:\"))\n",
    "b = float(input(\"b:\"))\n",
    "c = float(input(\"c opposite side:\"))\n",
    "print (is_right_triangle(a,b,c))"
   ]
  },
  {
   "cell_type": "markdown",
   "metadata": {},
   "source": [
    "# #6 Financial Application: Future Investment Value\n",
    "\n",
    "* Write a function that computes a future investment value at a given interest rate for a specified number of years. The future investment is determined using the formula:\n",
    " future_investment_value = amount x (1 + monthly_interest_rate)no_of_months.\n",
    "* Use the following function header:\n",
    "def future_investment_value(amount, monthly_interest_rate, years):\n",
    "For example, future_investment_value(10000, 0.05/12, 5) returns 12833.59.\n",
    "Write a test program that prompts the user to enter the investment amount and the annual interest rate in percent and prints a table displays the future value for the years from 1 to 30. \n"
   ]
  },
  {
   "cell_type": "code",
   "execution_count": 7,
   "metadata": {
    "scrolled": true
   },
   "outputs": [
    {
     "name": "stdout",
     "output_type": "stream",
     "text": [
      " Enter Principle amount:10000\n",
      "Enter int rate per annual  ex  9% input 0.09:0.05\n",
      "Year:30\n",
      "table  1 to  30  years\n",
      "year: 1 fv: 10511.61897881733\n",
      "year: 2 fv: 11049.413355583269\n",
      "year: 3 fv: 11614.722313334678\n",
      "year: 4 fv: 12208.953550254191\n",
      "year: 5 fv: 12833.586785035119\n",
      "year: 6 fv: 13490.177441587442\n",
      "year: 7 fv: 14180.360522260398\n",
      "year: 8 fv: 14905.854679226442\n",
      "year: 9 fv: 15668.466494164977\n",
      "year: 10 fv: 16470.0949769028\n",
      "year: 11 fv: 17312.736294213548\n",
      "year: 12 fv: 18198.488740551475\n",
      "year: 13 fv: 19129.557963097435\n",
      "year: 14 fv: 20108.262454128115\n",
      "year: 15 fv: 21137.039324385303\n",
      "year: 16 fv: 22218.45037182168\n",
      "year: 17 fv: 23355.188460835176\n",
      "year: 18 fv: 24550.084227877054\n",
      "year: 19 fv: 25806.113130131645\n",
      "year: 20 fv: 27126.402854819888\n",
      "year: 21 fv: 28514.241107576934\n",
      "year: 22 fv: 29973.083799297896\n",
      "year: 23 fv: 31506.5636518382\n",
      "year: 24 fv: 33118.49924399787\n",
      "year: 25 fv: 34812.90452031554\n",
      "year: 26 fv: 36593.99878635045\n",
      "year: 27 fv: 38466.217215341974\n",
      "year: 28 fv: 40434.22189240985\n",
      "year: 29 fv: 42502.91342379666\n",
      "year: 30 fv: 44677.443140061085\n"
     ]
    }
   ],
   "source": [
    "def fv_cal(p,i_year,y):\n",
    "    i_month = i_year /12\n",
    "    fv = p * (1 + i_month) ** (y * 12)\n",
    "    return fv\n",
    "  \n",
    "        \n",
    "input_principle = float(input(\" Enter Principle amount:\"))\n",
    "input_int_rate = float(input(\"Enter int rate per annual  ex  9% input 0.09:\"))\n",
    "input_year = int(input(\"Year:\"))\n",
    "\n",
    "fv =  fv_cal(input_principle,input_int_rate,input_year)\n",
    "#print (fv)\n",
    "\n",
    "print (\"table  1 to \",input_year,\" years\")\n",
    "\n",
    "num_year = 1\n",
    "\n",
    "while num_year <= input_year :\n",
    "    \n",
    "    print(\"year:\", num_year , \"fv:\", fv_cal(input_principle,input_int_rate,num_year) )   #n\n",
    "  \n",
    "    num_year = num_year + 1"
   ]
  },
  {
   "cell_type": "markdown",
   "metadata": {},
   "source": [
    "# #7 Conversions between Celsius and Fahrenheit!\n",
    "\n",
    "Write a module that contains the following two functions:\n",
    "Converts from Celsius to Fahrenheit\n",
    "def celsius_to_fahrenheit(celsius):\n",
    "Converts from Fahrenheit to Celsius\n",
    "def fahrenheit_to_celsius(fahrenheit):\n",
    "The formulas for the conversion are:\n",
    "celsius = (5 / 9) * (fahrenheit – 32)\n",
    "fahrenheit = (9 / 5) * celsius + 32\n",
    "Write a test program that invokes these functions to display conversion tables\n"
   ]
  },
  {
   "cell_type": "code",
   "execution_count": 8,
   "metadata": {},
   "outputs": [
    {
     "name": "stdout",
     "output_type": "stream",
     "text": [
      "0  c =  32.0 f\n",
      "1  c =  33.8 f\n",
      "2  c =  35.6 f\n",
      "3  c =  37.4 f\n",
      "4  c =  39.2 f\n",
      "5  c =  41.0 f\n",
      "6  c =  42.8 f\n",
      "7  c =  44.6 f\n",
      "8  c =  46.4 f\n",
      "9  c =  48.2 f\n",
      "10  c =  50.0 f\n",
      "0  f =  -17.77777777777778 c\n",
      "1  f =  -17.22222222222222 c\n",
      "2  f =  -16.666666666666668 c\n",
      "3  f =  -16.11111111111111 c\n",
      "4  f =  -15.555555555555557 c\n",
      "5  f =  -15.0 c\n",
      "6  f =  -14.444444444444445 c\n",
      "7  f =  -13.88888888888889 c\n",
      "8  f =  -13.333333333333334 c\n",
      "9  f =  -12.777777777777779 c\n",
      "10  f =  -12.222222222222223 c\n"
     ]
    }
   ],
   "source": [
    "def celsius_to_fahrenheit(celsius):\n",
    "    return (9 / 5) * celsius + 32\n",
    "\n",
    "def fahrenheit_to_celsius(fahrenheit):\n",
    "    return (5 / 9) * (fahrenheit - 32)\n",
    "\n",
    "n = 0\n",
    "while n <= 10 :\n",
    "    print ( n, \" c = \",celsius_to_fahrenheit(n) , \"f\")\n",
    "    n = n + 1\n",
    "\n",
    "n = 0   \n",
    "while n <= 10 :\n",
    "    print ( n, \" f = \",fahrenheit_to_celsius(n) , \"c\")\n",
    "    n = n + 1\n",
    "\n"
   ]
  },
  {
   "attachments": {
    "image.png": {
     "image/png": "[encoded data removed]"
    }
   },
   "cell_type": "markdown",
   "metadata": {},
   "source": [
    "# #8 Financial application: compute commissions!\n",
    "\n",
    "The header of the function is: *def compute_commission(sales_amount)*:\n",
    "\n",
    "\n",
    "![image.png](attachment:image.png)\n"
   ]
  },
  {
   "cell_type": "code",
   "execution_count": 9,
   "metadata": {},
   "outputs": [
    {
     "name": "stdout",
     "output_type": "stream",
     "text": [
      "input: 100000\n",
      "========\n",
      "100000 com 6% =>  6000.0\n",
      "Total: 6000.0 \n",
      "-------------\n",
      "\n",
      "input: 300000\n",
      "========\n",
      "200000 com 8% =>  16000.0\n",
      "100000 com 6% =>  6000.0\n",
      "Total: 22000.0 \n",
      "-------------\n",
      "\n",
      "input: 500000\n",
      "========\n",
      "400000 com 8% =>  32000.0\n",
      "100000 com 6% =>  6000.0\n",
      "Total: 38000.0 \n",
      "-------------\n",
      "\n",
      "input: 700000\n",
      "========\n",
      "200000 com 10% =>  20000.0\n",
      "400000 com 8% =>  32000.0\n",
      "100000 com 6% =>  6000.0\n",
      "Total: 58000.0 \n",
      "-------------\n",
      "\n",
      "input: 900000\n",
      "========\n",
      "400000 com 10% =>  40000.0\n",
      "400000 com 8% =>  32000.0\n",
      "100000 com 6% =>  6000.0\n",
      "Total: 78000.0 \n",
      "-------------\n",
      "\n",
      "input: 1100000\n",
      "========\n",
      "100000 com 12% =>  12000.0\n",
      "500000 com 10% =>  50000.0\n",
      "400000 com 8% =>  32000.0\n",
      "100000 com 6% =>  6000.0\n",
      "Total: 100000.0 \n",
      "-------------\n",
      "\n",
      "input: 1300000\n",
      "========\n",
      "300000 com 12% =>  36000.0\n",
      "500000 com 10% =>  50000.0\n",
      "400000 com 8% =>  32000.0\n",
      "100000 com 6% =>  6000.0\n",
      "Total: 124000.0 \n",
      "-------------\n",
      "\n",
      "input: 1500000\n",
      "========\n",
      "500000 com 12% =>  60000.0\n",
      "500000 com 10% =>  50000.0\n",
      "400000 com 8% =>  32000.0\n",
      "100000 com 6% =>  6000.0\n",
      "Total: 148000.0 \n",
      "-------------\n",
      "\n",
      "input: 1700000\n",
      "========\n",
      "700000 com 12% =>  84000.0\n",
      "500000 com 10% =>  50000.0\n",
      "400000 com 8% =>  32000.0\n",
      "100000 com 6% =>  6000.0\n",
      "Total: 172000.0 \n",
      "-------------\n",
      "\n",
      "input: 1900000\n",
      "========\n",
      "900000 com 12% =>  108000.0\n",
      "500000 com 10% =>  50000.0\n",
      "400000 com 8% =>  32000.0\n",
      "100000 com 6% =>  6000.0\n",
      "Total: 196000.0 \n",
      "-------------\n",
      "\n"
     ]
    }
   ],
   "source": [
    "# -*- coding: utf-8 -*-\n",
    "\"\"\"\n",
    "Created on Wed Jan 24 15:24:40 2018\n",
    "\n",
    "@author: kronprom\n",
    "\"\"\"\n",
    "\n",
    "def compute_commission(sales_amount):\n",
    "    print (\"input:\",sales_amount)\n",
    "    print (\"========\")\n",
    "    total_commission = 0\n",
    "    \n",
    "    while sales_amount > 0 :\n",
    "        if sales_amount > 1000000.01:\n",
    "            commission = (sales_amount - 1000000)*(12/100)\n",
    "            print (sales_amount - 1000000,\"com 12% => \", commission)\n",
    "            total_commission = total_commission + commission\n",
    "            sales_amount = 1000000\n",
    "            continue\n",
    "        elif sales_amount >= 500000.01 and sales_amount <= 1000000:\n",
    "            commission = (sales_amount - 500000)*(10/100)\n",
    "            print (sales_amount - 500000,\"com 10% => \", commission)\n",
    "            total_commission = total_commission + commission\n",
    "            sales_amount = 500000\n",
    "            continue\n",
    "        elif sales_amount >= 100000.01 and sales_amount <= 500000:\n",
    "            commission = (sales_amount - 100000)*(8/100)\n",
    "            print (sales_amount - 100000,\"com 8% => \", commission)\n",
    "            total_commission = total_commission + commission\n",
    "            sales_amount = 100000\n",
    "            continue\n",
    "        elif sales_amount <= 100000 and sales_amount > 0:\n",
    "            commission = sales_amount*(6/100)\n",
    "            print (sales_amount,\"com 6% => \", commission)\n",
    "            total_commission = total_commission + commission\n",
    "            sales_amount = 0\n",
    "            continue\n",
    "    print (\"Total:\",total_commission,\"\\n-------------\\n\")\n",
    "    return total_commission\n",
    "        \n",
    "    \n",
    "#sale_amount_input = float(input(\"Amount:\"))\n",
    "#total_commission_1 = compute_commission(sale_amount_input)    \n",
    "\n",
    "n = 100000\n",
    "while n <= 2000000:\n",
    "    compute_commission(n)\n",
    "    n = n+200000\n",
    "    \n"
   ]
  },
  {
   "cell_type": "code",
   "execution_count": null,
   "metadata": {
    "collapsed": true
   },
   "outputs": [],
   "source": []
  }
 ],
 "metadata": {
  "kernelspec": {
   "display_name": "Python 3",
   "language": "python",
   "name": "python3"
  },
  "language_info": {
   "codemirror_mode": {
    "name": "ipython",
    "version": 3
   },
   "file_extension": ".py",
   "mimetype": "text/x-python",
   "name": "python",
   "nbconvert_exporter": "python",
   "pygments_lexer": "ipython3",
   "version": "3.6.3"
  }
 },
 "nbformat": 4,
 "nbformat_minor": 2
}
