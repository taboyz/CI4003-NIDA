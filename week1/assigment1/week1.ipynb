{
 "cells": [
  {
   "cell_type": "markdown",
   "metadata": {},
   "source": [
    "# Week 1 Assignment (2018/1/10)# \n",
    "by Kronprom Thirwat  6020411001\n"
   ]
  },
  {
   "cell_type": "markdown",
   "metadata": {},
   "source": [
    "---"
   ]
  },
  {
   "cell_type": "markdown",
   "metadata": {},
   "source": [
    "### Assignment 1 :  จงเขียนโปรแกรมคำนวณหา  Speed โดยรับค่า Input ระยะทาง (Distance) และ เวลา (Time)   หน่วยตามใจชอบ###\n",
    " **Given Formalar :**   Speed = Distance / Time"
   ]
  },
  {
   "cell_type": "code",
   "execution_count": 1,
   "metadata": {},
   "outputs": [
    {
     "name": "stdout",
     "output_type": "stream",
     "text": [
      "Please input Distance in kilometer:350.50\n",
      "Please input Time in hour:3\n",
      "your speed is  116.83333333333333  Kilometres per hour\n"
     ]
    }
   ],
   "source": [
    "distance = input('Please input Distance in kilometer:')\n",
    "time = input('Please input Time in hour:')\n",
    "speed = float(distance)/float(time)\n",
    "print (\"your speed is \",speed,\" Kilometres per hour\")"
   ]
  },
  {
   "cell_type": "markdown",
   "metadata": {},
   "source": [
    "---"
   ]
  },
  {
   "cell_type": "markdown",
   "metadata": {},
   "source": [
    "### Assignment 2 :  จงเขียนโปรแกรมแปลงค่าอุณหภูมิจาก Celsius (°C) to Fahrenheit (°F)  โดย  รับค่าเป็น  Celsius\n",
    "\n",
    "สูคร T(°F) = T(°C) × 1.8 + 32  **อ้างอิงจาก** https://www.rapidtables.com/convert/temperature/celsius-to-fahrenheit.html"
   ]
  },
  {
   "cell_type": "code",
   "execution_count": 2,
   "metadata": {},
   "outputs": [
    {
     "name": "stdout",
     "output_type": "stream",
     "text": [
      "Please input Temperature in Celcuis (°C): 37.5\n",
      "Result is :  99.5 °F\n"
     ]
    }
   ],
   "source": [
    "celsius = input(\"Please input Temperature in Celcuis (°C): \")\n",
    "fahrenheit = float(celsius) * 1.8 + 32\n",
    "print (\"Result is : \",fahrenheit,\"°F\")"
   ]
  },
  {
   "cell_type": "markdown",
   "metadata": {},
   "source": [
    "---"
   ]
  }
 ],
 "metadata": {
  "kernelspec": {
   "display_name": "Python 3",
   "language": "python",
   "name": "python3"
  },
  "language_info": {
   "codemirror_mode": {
    "name": "ipython",
    "version": 3
   },
   "file_extension": ".py",
   "mimetype": "text/x-python",
   "name": "python",
   "nbconvert_exporter": "python",
   "pygments_lexer": "ipython3",
   "version": "3.6.3"
  }
 },
 "nbformat": 4,
 "nbformat_minor": 2
}
